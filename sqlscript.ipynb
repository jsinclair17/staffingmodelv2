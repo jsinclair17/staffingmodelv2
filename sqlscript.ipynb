{
 "cells": [
  {
   "cell_type": "code",
   "execution_count": 4,
   "metadata": {},
   "outputs": [
    {
     "name": "stdout",
     "output_type": "stream",
     "text": [
      "[('Jeff Sinclair', '123 Test Drive', 'my first project', 'Data Engineering', 3, 'Average', 3, 8, 8, 2, 9, 7, 3, 7), ('Jeff Sinclair', '123 Test Drive', 'my first project', 'Data Engineering', 3, 'Average', 3, 8, 8, 2, 9, 7, 3, 7), ('', '', '', 'Data Engineering', 1, 'Flexible', 1, 1, 1, 1, 1, 1, 1, 1), ('customer test', '', '', 'Data Engineering', 1, 'Flexible', 1, 1, 1, 1, 1, 1, 1, 1), ('customer test', 'address testing', '', 'Data Engineering', 1, 'Flexible', 1, 1, 1, 1, 1, 1, 1, 1), ('customer test', 'address testing', 'project test', 'Data Engineering', 1, 'Flexible', 1, 1, 1, 1, 1, 1, 1, 1), ('customer test', 'address testing', 'project test', 'Data Migration', 1, 'Flexible', 1, 1, 1, 1, 1, 1, 1, 1), ('customer test', 'address testing', 'project test', 'Data Migration', 1, 'Flexible', 1, 1, 1, 1, 1, 1, 1, 1), ('Jeff Sinclair', '123 Test Drive', 'my first project', 'Data Engineering', 3, 'Average', 3, 8, 8, 2, 9, 7, 3, 7), ('', '', '', 'Data Engineering', 1, 'Flexible', 1, 1, 1, 1, 1, 1, 1, 1), ('', '', '', 'Data Engineering', 1, 'Average', 1, 1, 1, 1, 1, 1, 1, 1), ('', '', '', 'Data Engineering', 1, 'Average', 1, 8, 1, 1, 1, 1, 1, 1), ('', '', '', 'Data Engineering', 1, 'Flexible', 1, 8, 1, 1, 1, 1, 1, 1), ('', '', '', 'Data Engineering', 1, 'Flexible', 1, 2, 1, 1, 1, 1, 1, 1), ('', '', '', 'Data Engineering', 1, 'Flexible', 1, 1, 1, 1, 1, 1, 1, 1), ('', '', '', 'Data Engineering', 1, 'Flexible', 1, 7, 1, 1, 1, 1, 1, 1), ('', '', '', 'Data Engineering', 10, 'Flexible', 1, 7, 1, 1, 1, 1, 1, 1), ('', '', '', 'Data Engineering', 10, 'Rapid', 1, 7, 1, 1, 1, 1, 1, 1), ('', '', '', 'Data Engineering', 3, 'Rapid', 1, 7, 1, 1, 1, 1, 1, 1), ('', '', '', 'Pipelines and Intergration', 3, 'Rapid', 1, 7, 1, 1, 1, 1, 1, 1), ('', '', '', 'Data Engineering', 1, 'Flexible', 1, 1, 1, 1, 1, 1, 1, 1), ('', '', '', 'Pipelines and Intergration', 1, 'Flexible', 1, 1, 1, 1, 1, 1, 1, 1), ('', '', '', 'Pipelines and Intergration', 3, 'Flexible', 1, 1, 1, 1, 1, 1, 1, 1), ('', '', '', 'Pipelines and Intergration', 3, 'Flexible', 8, 1, 1, 1, 1, 1, 1, 1), ('', '', '', 'Application Development', 5, 'Average', 5, 1, 1, 1, 1, 1, 1, 1), ('', '', '', 'Data Engineering', 1, 'Flexible', 1, 1, 1, 1, 1, 1, 1, 1), ('', '', '', 'Data Engineering', 1, 'Flexible', 1, 1, 1, 1, 1, 3, 1, 1), ('', '', '', 'Data Engineering', 1, 'Flexible', 1, 1, 1, 1, 1, 3, 1, 1), ('', '', '', 'Data Engineering', 1, 'Flexible', 1, 1, 1, 1, 1, 1, 1, 1), ('', '', '', 'Data Engineering', 1, 'Flexible', 1, 1, 1, 1, 1, 1, 1, 1), ('', '', '', 'Data Engineering', 1, 'Flexible', 1, 1, 1, 1, 1, 8, 1, 1), ('Jeff', '12345 lane', 'test project', 'Data Engineering', 5, 'Average', 3, 7, 3, 8, 3, 7, 7, 4)]\n"
     ]
    }
   ],
   "source": [
    "import sqlite3\n",
    "\n",
    "conn = sqlite3.connect('Staffing.db')\n",
    "cursor = conn.cursor()\n",
    "\n",
    "cursor.execute('''SELECT  * FROM projectdetail''')\n",
    "result = cursor.fetchall()\n",
    "print(result)\n",
    "\n",
    "conn.close()\n",
    "               "
   ]
  },
  {
   "cell_type": "code",
   "execution_count": null,
   "metadata": {},
   "outputs": [],
   "source": []
  }
 ],
 "metadata": {
  "kernelspec": {
   "display_name": ".venv",
   "language": "python",
   "name": "python3"
  },
  "language_info": {
   "codemirror_mode": {
    "name": "ipython",
    "version": 3
   },
   "file_extension": ".py",
   "mimetype": "text/x-python",
   "name": "python",
   "nbconvert_exporter": "python",
   "pygments_lexer": "ipython3",
   "version": "3.11.4"
  }
 },
 "nbformat": 4,
 "nbformat_minor": 2
}
